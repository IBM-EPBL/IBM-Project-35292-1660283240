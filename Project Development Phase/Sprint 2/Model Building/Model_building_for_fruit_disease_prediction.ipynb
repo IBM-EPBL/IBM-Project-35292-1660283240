{
  "nbformat": 4,
  "nbformat_minor": 0,
  "metadata": {
    "colab": {
      "provenance": []
    },
    "kernelspec": {
      "name": "python3",
      "display_name": "Python 3"
    },
    "language_info": {
      "name": "python"
    }
  },
  "cells": [
    {
      "cell_type": "code",
      "execution_count": 65,
      "metadata": {
        "id": "-2Wwes8OPtII"
      },
      "outputs": [],
      "source": [
        "from keras.preprocessing.image import ImageDataGenerator\n",
        "train_datagen=ImageDataGenerator(rescale=1./255,shear_range=0.2,zoom_range=0.2,horizontal_flip=True)\n",
        "test_datagen=ImageDataGenerator(rescale=1)"
      ]
    },
    {
      "cell_type": "code",
      "source": [
        "x_train=train_datagen.flow_from_directory(r'/content/drive/MyDrive/IBM/Data Set/Dataset Plant Disease/fruit-dataset/fruit-dataset/train',target_size=(128,128),batch_size=2,class_mode='categorical')\n",
        "x_test=test_datagen.flow_from_directory(r'/content/drive/MyDrive/IBM/Data Set/Dataset Plant Disease/fruit-dataset/fruit-dataset/test',target_size=(128,128),batch_size=2,class_mode='categorical')"
      ],
      "metadata": {
        "colab": {
          "base_uri": "https://localhost:8080/"
        },
        "id": "mHL2RmWhSKvb",
        "outputId": "b7375977-77cc-49c2-83ac-039ed4513b4f"
      },
      "execution_count": 98,
      "outputs": [
        {
          "output_type": "stream",
          "name": "stdout",
          "text": [
            "Found 5384 images belonging to 6 classes.\n",
            "Found 1686 images belonging to 6 classes.\n"
          ]
        }
      ]
    },
    {
      "cell_type": "code",
      "source": [
        "from keras.models import Sequential\n",
        "from keras.layers import Dense\n",
        "from keras.layers import Convolution2D\n",
        "from keras.layers import MaxPooling2D\n",
        "from keras.layers import Flatten"
      ],
      "metadata": {
        "id": "2wK6GJh6DTer"
      },
      "execution_count": 99,
      "outputs": []
    },
    {
      "cell_type": "code",
      "source": [
        "model=Sequential()"
      ],
      "metadata": {
        "id": "M4cZJe87DXJU"
      },
      "execution_count": 100,
      "outputs": []
    },
    {
      "cell_type": "code",
      "source": [
        "model.add(Convolution2D(32,(3,3),input_shape=(128,128,3),activation='relu'))"
      ],
      "metadata": {
        "id": "1c9RibKIDeFn"
      },
      "execution_count": 101,
      "outputs": []
    },
    {
      "cell_type": "code",
      "source": [
        "model.add(MaxPooling2D(pool_size=(2,2)))"
      ],
      "metadata": {
        "id": "vwuQ959qDn15"
      },
      "execution_count": 102,
      "outputs": []
    },
    {
      "cell_type": "code",
      "source": [
        "model.add(Flatten())"
      ],
      "metadata": {
        "id": "j4RI6NLzDxx4"
      },
      "execution_count": 103,
      "outputs": []
    },
    {
      "cell_type": "code",
      "source": [
        "model.add(Dense(units=40,kernel_initializer='uniform',activation='relu'))"
      ],
      "metadata": {
        "id": "bkTsKoNPD2N3"
      },
      "execution_count": 104,
      "outputs": []
    },
    {
      "cell_type": "code",
      "source": [
        "model.add(Dense(units=20,kernel_initializer='random_uniform',activation='relu'))"
      ],
      "metadata": {
        "id": "Jc_3PJLyD2Yr"
      },
      "execution_count": 105,
      "outputs": []
    },
    {
      "cell_type": "code",
      "source": [
        "model.add(Dense(units=6,kernel_initializer='random_uniform',activation='softmax'))"
      ],
      "metadata": {
        "id": "OsYBguTlD2jy"
      },
      "execution_count": 106,
      "outputs": []
    },
    {
      "cell_type": "code",
      "source": [
        "model.compile(loss='categorical_crossentropy',optimizer=\"adam\",metrics=[\"accuracy\"])"
      ],
      "metadata": {
        "id": "NEZFM8hlEP7_"
      },
      "execution_count": 107,
      "outputs": []
    },
    {
      "cell_type": "code",
      "source": [
        "model.fit(x_train,steps_per_epoch=89,epochs=20,validation_data=x_test,validation_steps=27)"
      ],
      "metadata": {
        "colab": {
          "base_uri": "https://localhost:8080/"
        },
        "id": "-zBQjP_0EUK0",
        "outputId": "e0dc348a-89d7-4ac0-cef2-e58d22b17bbe"
      },
      "execution_count": 108,
      "outputs": [
        {
          "output_type": "stream",
          "name": "stdout",
          "text": [
            "Epoch 1/20\n",
            "89/89 [==============================] - 39s 432ms/step - loss: 1.6796 - accuracy: 0.2865 - val_loss: 80.1970 - val_accuracy: 0.3148\n",
            "Epoch 2/20\n",
            "89/89 [==============================] - 30s 343ms/step - loss: 1.5861 - accuracy: 0.4438 - val_loss: 159.1514 - val_accuracy: 0.3889\n",
            "Epoch 3/20\n",
            "89/89 [==============================] - 29s 326ms/step - loss: 1.5208 - accuracy: 0.3764 - val_loss: 106.4245 - val_accuracy: 0.3519\n",
            "Epoch 4/20\n",
            "89/89 [==============================] - 27s 299ms/step - loss: 1.1900 - accuracy: 0.5393 - val_loss: 61.9371 - val_accuracy: 0.6667\n",
            "Epoch 5/20\n",
            "89/89 [==============================] - 25s 278ms/step - loss: 0.9960 - accuracy: 0.5506 - val_loss: 78.5499 - val_accuracy: 0.6111\n",
            "Epoch 6/20\n",
            "89/89 [==============================] - 28s 317ms/step - loss: 0.9913 - accuracy: 0.6180 - val_loss: 99.4132 - val_accuracy: 0.6481\n",
            "Epoch 7/20\n",
            "89/89 [==============================] - 22s 243ms/step - loss: 0.8204 - accuracy: 0.6742 - val_loss: 114.9436 - val_accuracy: 0.6111\n",
            "Epoch 8/20\n",
            "89/89 [==============================] - 21s 241ms/step - loss: 0.8942 - accuracy: 0.6404 - val_loss: 34.9593 - val_accuracy: 0.7778\n",
            "Epoch 9/20\n",
            "89/89 [==============================] - 24s 275ms/step - loss: 0.8226 - accuracy: 0.7191 - val_loss: 26.1083 - val_accuracy: 0.7963\n",
            "Epoch 10/20\n",
            "89/89 [==============================] - 24s 273ms/step - loss: 0.6970 - accuracy: 0.7303 - val_loss: 44.3593 - val_accuracy: 0.7222\n",
            "Epoch 11/20\n",
            "89/89 [==============================] - 22s 243ms/step - loss: 0.6249 - accuracy: 0.7584 - val_loss: 57.4621 - val_accuracy: 0.6481\n",
            "Epoch 12/20\n",
            "89/89 [==============================] - 20s 229ms/step - loss: 0.7543 - accuracy: 0.7697 - val_loss: 155.9241 - val_accuracy: 0.5926\n",
            "Epoch 13/20\n",
            "89/89 [==============================] - 22s 245ms/step - loss: 0.6772 - accuracy: 0.7753 - val_loss: 67.4146 - val_accuracy: 0.8333\n",
            "Epoch 14/20\n",
            "89/89 [==============================] - 21s 240ms/step - loss: 0.5442 - accuracy: 0.7809 - val_loss: 77.8184 - val_accuracy: 0.8333\n",
            "Epoch 15/20\n",
            "89/89 [==============================] - 20s 223ms/step - loss: 0.6055 - accuracy: 0.7753 - val_loss: 103.9081 - val_accuracy: 0.7407\n",
            "Epoch 16/20\n",
            "89/89 [==============================] - 18s 205ms/step - loss: 0.5905 - accuracy: 0.7472 - val_loss: 196.7127 - val_accuracy: 0.6852\n",
            "Epoch 17/20\n",
            "89/89 [==============================] - 20s 226ms/step - loss: 0.5259 - accuracy: 0.7921 - val_loss: 70.6365 - val_accuracy: 0.8333\n",
            "Epoch 18/20\n",
            "89/89 [==============================] - 17s 188ms/step - loss: 0.4664 - accuracy: 0.8090 - val_loss: 66.7443 - val_accuracy: 0.8333\n",
            "Epoch 19/20\n",
            "89/89 [==============================] - 18s 198ms/step - loss: 0.5947 - accuracy: 0.7809 - val_loss: 33.2678 - val_accuracy: 0.9074\n",
            "Epoch 20/20\n",
            "89/89 [==============================] - 19s 213ms/step - loss: 0.6309 - accuracy: 0.7472 - val_loss: 58.2014 - val_accuracy: 0.8333\n"
          ]
        },
        {
          "output_type": "execute_result",
          "data": {
            "text/plain": [
              "<keras.callbacks.History at 0x7f32fc6bdc50>"
            ]
          },
          "metadata": {},
          "execution_count": 108
        }
      ]
    },
    {
      "cell_type": "code",
      "source": [
        "##Save The Model"
      ],
      "metadata": {
        "id": "KzvmIdVmFijM"
      },
      "execution_count": 95,
      "outputs": []
    },
    {
      "cell_type": "code",
      "source": [
        "model.save('fruit.h5')"
      ],
      "metadata": {
        "id": "NbcoRUEgFDU9"
      },
      "execution_count": 96,
      "outputs": []
    },
    {
      "cell_type": "code",
      "source": [
        "model.summary()"
      ],
      "metadata": {
        "colab": {
          "base_uri": "https://localhost:8080/"
        },
        "id": "4rKuHKKuFG8o",
        "outputId": "aa1b5e6b-6fbf-4781-a731-a7435d8b53c0"
      },
      "execution_count": 97,
      "outputs": [
        {
          "output_type": "stream",
          "name": "stdout",
          "text": [
            "Model: \"sequential_1\"\n",
            "_________________________________________________________________\n",
            " Layer (type)                Output Shape              Param #   \n",
            "=================================================================\n",
            " conv2d_1 (Conv2D)           (None, 126, 126, 32)      896       \n",
            "                                                                 \n",
            " max_pooling2d_1 (MaxPooling  (None, 63, 63, 32)       0         \n",
            " 2D)                                                             \n",
            "                                                                 \n",
            " flatten_1 (Flatten)         (None, 127008)            0         \n",
            "                                                                 \n",
            " dense_3 (Dense)             (None, 40)                5080360   \n",
            "                                                                 \n",
            " flatten_2 (Flatten)         (None, 40)                0         \n",
            "                                                                 \n",
            " dense_4 (Dense)             (None, 40)                1640      \n",
            "                                                                 \n",
            " dense_5 (Dense)             (None, 20)                820       \n",
            "                                                                 \n",
            " dense_6 (Dense)             (None, 6)                 126       \n",
            "                                                                 \n",
            "=================================================================\n",
            "Total params: 5,083,842\n",
            "Trainable params: 5,083,842\n",
            "Non-trainable params: 0\n",
            "_________________________________________________________________\n"
          ]
        }
      ]
    }
  ]
}